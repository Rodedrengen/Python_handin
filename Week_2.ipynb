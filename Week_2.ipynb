{
 "cells": [
  {
   "cell_type": "markdown",
   "metadata": {},
   "source": [
    "# Week 2 handin"
   ]
  },
  {
   "cell_type": "markdown",
   "metadata": {},
   "source": [
    "## Assignment\n",
    "## Exercise 1\n",
    "1. Create a python file with 3 functions:\n",
    "  1. `def print_file_content(file)` that can print content of a csv file to the console\n",
    "  2. `def write_list_to_file(output_file, lst)` that can take a list of tuple and write each element to a new line in file\n",
    "    1. rewrite the function so that it gets an arbitrary number of strings instead of a list\n",
    "  3. `def read_csv(input_file)` that take a csv file and read each row into a list\n",
    "2. Add a functionality so that the file can be called from cli with 2 arguments\n",
    "  1. path to csv file\n",
    "  2. an argument `--file file_name` that if given will write the content to file_name or otherwise will print it to the console.\n",
    "3. Add a --help cli argument to describe how the module is used  \n",
    "\n",
    "## Exercise 2\n",
    "Create a module called utils.py with the following 5 functions:\n",
    "\n",
    "```python\n",
    "def get_file_names(folderpath,out=output.txt):\n",
    "    \"\"\" takes a path to a folder and writes all filenames in the folder to a specified output file\"\"\"\n",
    "\n",
    "def get_all_file_names(folderpath,out=output.txt):\n",
    "    \"\"\"takes a path to a folder and write all filenames recursively (files of all sub folders to)\"\"\"\n",
    "\n",
    "def print_line_one(file_names):\n",
    "    \"\"\"takes a list of filenames and print the first line of each\"\"\"\n",
    "\n",
    "def print_emails(file_names):\n",
    "    \"\"\"takes a list of filenames and print each line that contains an email (just look for @)\"\"\"\n",
    "\n",
    "def write_headlines(md_files, out=output.txt):\n",
    "    \"\"\"takes a list of md files and writes all headlines (lines starting with #) to a file\"\"\"\n",
    "\n",
    "```\n",
    "Make sure your module can be called both from cli and imported to another module\n",
    "Create a new module that imports utils.py and test each function."
   ]
  },
  {
   "cell_type": "markdown",
   "metadata": {},
   "source": [
    "## Status\n",
    "I could not get the last part of exercise 2 to work. With the cli arguments. The rest should be working good. I did not know how to show CLI in notebooks or show how to read a file system in notebooks."
   ]
  },
  {
   "cell_type": "markdown",
   "metadata": {},
   "source": [
    "## Solution part 1"
   ]
  },
  {
   "cell_type": "code",
   "execution_count": 2,
   "metadata": {},
   "outputs": [
    {
     "name": "stdout",
     "output_type": "stream",
     "text": [
      "['\"blow\"', '\"his\"', '\"every\"', '\"connected\"', '\"rear\"', '\"such\"', '']\n",
      "['\"dinner\"', '\"business\"', '\"refused\"', '\"at\"', '\"little\"', '\"late\"', '']\n",
      "['\"exchange\"', '\"loose\"', '\"spite\"', '\"base\"', '\"real\"', '\"judge\"', '']\n",
      "['\"percent\"', '\"principle\"', '\"stairs\"', '\"seat\"', '\"operation\"', '\"till\"', '']\n",
      "['\"broke\"', '\"fighting\"', '\"direct\"', '\"pride\"', '\"order\"', '\"due\"', '']\n",
      "['\"mighty\"', '\"mountain\"', '\"nobody\"', '\"tent\"', '\"coming\"', '\"lose\"', '']\n",
      "['\"room\"', '\"gift\"', '\"garage\"', '\"distant\"', '\"sick\"', '\"tightly\"']\n"
     ]
    }
   ],
   "source": [
    "# 1.1.A some code here with docstrings\n",
    "\n",
    "def print_file_content(file):\n",
    "\n",
    "    with open(file) as f_obj:\n",
    "        content = f_obj.readlines()\n",
    "\n",
    "    for line in content:\n",
    "        print(line.strip().split(','))\n",
    "\n",
    "\n",
    "fileName = './data/csvFile.csv'\n",
    "print_file_content(fileName)"
   ]
  },
  {
   "cell_type": "code",
   "execution_count": 9,
   "metadata": {},
   "outputs": [],
   "source": [
    "# 1.1.B some code here with docstrings\n",
    "\n",
    "def write_list_to_file(output_file, lst):\n",
    "\n",
    "    with open(output_file, 'w') as file_object:\n",
    "        for line in lst:\n",
    "            for data in line:\n",
    "                file_object.write((str(data) + \" \"))\n",
    "\n",
    "            file_object.write(\"\\n\")\n",
    "\n",
    "\n",
    "tupleData = [(\"John\", 40, \"male\"),\n",
    "            (\"Mikkel\", 55, \"Male\"),\n",
    "            (\"Cecillie\", 17, \"Female\")]\n",
    "outFileName = './data/02ExericesFile.txt'\n",
    "write_list_to_file(outFileName, tupleData)"
   ]
  },
  {
   "cell_type": "code",
   "execution_count": 10,
   "metadata": {},
   "outputs": [],
   "source": [
    "# 1.1.B.A\n",
    "\n",
    "def write_abitraty_amount_of_strings_to_file(output_file, *persons):\n",
    "\n",
    "    with open(output_file, 'a') as file_object:\n",
    "        for person in persons:\n",
    "            file_object.write((person))\n",
    "            file_object.write(\"\\n\")\n",
    "\n",
    "\n",
    "string1 = \"John 40 male\"\n",
    "string2 = \"Mikkel 55 Male\"\n",
    "string3 = \"Cecillie 17 Female\"\n",
    "\n",
    "outFileName = './data/02ExericesFile2.txt'\n",
    "write_abitraty_amount_of_strings_to_file(\n",
    "    outFileName, string1, string2, string3)"
   ]
  },
  {
   "cell_type": "code",
   "execution_count": 12,
   "metadata": {},
   "outputs": [
    {
     "name": "stdout",
     "output_type": "stream",
     "text": [
      "[['\"blow\"', '\"his\"', '\"every\"', '\"connected\"', '\"rear\"', '\"such\"', '\\n'], ['\"dinner\"', '\"business\"', '\"refused\"', '\"at\"', '\"little\"', '\"late\"', '\\n'], ['\"exchange\"', '\"loose\"', '\"spite\"', '\"base\"', '\"real\"', '\"judge\"', '\\n'], ['\"percent\"', '\"principle\"', '\"stairs\"', '\"seat\"', '\"operation\"', '\"till\"', '\\n'], ['\"broke\"', '\"fighting\"', '\"direct\"', '\"pride\"', '\"order\"', '\"due\"', '\\n'], ['\"mighty\"', '\"mountain\"', '\"nobody\"', '\"tent\"', '\"coming\"', '\"lose\"', '\\n'], ['\"room\"', '\"gift\"', '\"garage\"', '\"distant\"', '\"sick\"', '\"tightly\"']]\n"
     ]
    }
   ],
   "source": [
    "# 1.1.C\n",
    "\n",
    "def read_csv(input_file):\n",
    "    listOfList = []\n",
    "\n",
    "    with open(input_file) as f_obj:\n",
    "            \n",
    "        content = f_obj.readlines()\n",
    "\n",
    "    for value in content: \n",
    "        \n",
    "        listOfList.append(value.split(\",\"))\n",
    "\n",
    "    print(listOfList)\n",
    "fileName = './data/csvFile.csv'\n",
    "read_csv(fileName)"
   ]
  },
  {
   "cell_type": "code",
   "execution_count": 30,
   "metadata": {},
   "outputs": [
    {
     "name": "stderr",
     "output_type": "stream",
     "text": [
      "usage: ipykernel_launcher.py [-h] [-i INPUT] [-o OUTPUT]\n",
      "ipykernel_launcher.py: error: unrecognized arguments: -f /tmp/kernel-c68685ae-2978-4942-b684-15ec7349c5f3.json\n"
     ]
    },
    {
     "ename": "SystemExit",
     "evalue": "2",
     "output_type": "error",
     "traceback": [
      "An exception has occurred, use %tb to see the full traceback.\n",
      "\u001b[0;31mSystemExit\u001b[0m\u001b[0;31m:\u001b[0m 2\n"
     ]
    }
   ],
   "source": [
    "# 1.2.A & 1.2.B & 3\n",
    "import argparse\n",
    "parser= argparse.ArgumentParser(description='Exercies for week 2 in python')\n",
    "parser.add_argument('-i','--input', help='path to input csv file')\n",
    "parser.add_argument('-o','--output', help='name of output file')\n",
    "args = parser.parse_args();\n",
    "print(args.input)\n",
    "print(args.output)\n",
    "\n",
    "def readFile(inFileName, outFileName):\n",
    "\n",
    "    if(inFileName == None):\n",
    "        return\n",
    "    with open(inFileName,'r') as file_object:\n",
    "        lines = file_object.readlines()\n",
    "    \n",
    "    if(outFileName != None):\n",
    "        with open(outFileName, 'a') as file_object:\n",
    "            for line in lines:\n",
    "                file_object.write(line)\n",
    "            file_object.write(\"\\n\")\n",
    "    else:\n",
    "        print(lines)\n",
    "\n",
    "readFile(args.input, args.output)"
   ]
  },
  {
   "cell_type": "markdown",
   "metadata": {},
   "source": [
    "## Solution part 2"
   ]
  },
  {
   "cell_type": "code",
   "execution_count": 31,
   "metadata": {},
   "outputs": [
    {
     "ename": "FileNotFoundError",
     "evalue": "[Errno 2] No such file or directory: 'C:/Users/simon/Documents/DnD'",
     "output_type": "error",
     "traceback": [
      "\u001b[0;31m---------------------------------------------------------------------------\u001b[0m",
      "\u001b[0;31mFileNotFoundError\u001b[0m                         Traceback (most recent call last)",
      "\u001b[0;32m<ipython-input-31-7a3f9230812f>\u001b[0m in \u001b[0;36m<module>\u001b[0;34m\u001b[0m\n\u001b[1;32m      1\u001b[0m \u001b[0;32mfrom\u001b[0m \u001b[0mmodules\u001b[0m \u001b[0;32mimport\u001b[0m \u001b[0mutils\u001b[0m \u001b[0;32mas\u001b[0m \u001b[0mutils\u001b[0m\u001b[0;34m\u001b[0m\u001b[0;34m\u001b[0m\u001b[0m\n\u001b[1;32m      2\u001b[0m \u001b[0;34m\u001b[0m\u001b[0m\n\u001b[0;32m----> 3\u001b[0;31m \u001b[0mutils\u001b[0m\u001b[0;34m.\u001b[0m\u001b[0mget_file_names\u001b[0m\u001b[0;34m(\u001b[0m\u001b[0;34m\"C:/Users/simon/Documents/DnD\"\u001b[0m\u001b[0;34m)\u001b[0m\u001b[0;34m\u001b[0m\u001b[0;34m\u001b[0m\u001b[0m\n\u001b[0m",
      "\u001b[0;32m~/handin_template/modules/utils.py\u001b[0m in \u001b[0;36mget_file_names\u001b[0;34m(folderpath, out)\u001b[0m\n\u001b[1;32m     16\u001b[0m     \u001b[0;32mdef\u001b[0m \u001b[0mget_file_names\u001b[0m\u001b[0;34m(\u001b[0m\u001b[0mfolderpath\u001b[0m\u001b[0;34m,\u001b[0m\u001b[0mout\u001b[0m\u001b[0;34m=\u001b[0m\u001b[0;34m\"./data/output.txt\"\u001b[0m\u001b[0;34m)\u001b[0m\u001b[0;34m:\u001b[0m\u001b[0;34m\u001b[0m\u001b[0;34m\u001b[0m\u001b[0m\n\u001b[1;32m     17\u001b[0m         \u001b[0;34m\"\"\" takes a path to a folder and writes all filenames in the folder to a specified output file\"\"\"\u001b[0m\u001b[0;34m\u001b[0m\u001b[0;34m\u001b[0m\u001b[0m\n\u001b[0;32m---> 18\u001b[0;31m         \u001b[0mfilesInFolder\u001b[0m \u001b[0;34m=\u001b[0m \u001b[0mos\u001b[0m\u001b[0;34m.\u001b[0m\u001b[0mlistdir\u001b[0m\u001b[0;34m(\u001b[0m\u001b[0mfolderpath\u001b[0m\u001b[0;34m)\u001b[0m\u001b[0;34m\u001b[0m\u001b[0;34m\u001b[0m\u001b[0m\n\u001b[0m\u001b[1;32m     19\u001b[0m \u001b[0;34m\u001b[0m\u001b[0m\n\u001b[1;32m     20\u001b[0m         \u001b[0;32mwith\u001b[0m \u001b[0mopen\u001b[0m\u001b[0;34m(\u001b[0m\u001b[0mout\u001b[0m\u001b[0;34m,\u001b[0m \u001b[0;34m'a'\u001b[0m\u001b[0;34m)\u001b[0m \u001b[0;32mas\u001b[0m \u001b[0mfile_object\u001b[0m\u001b[0;34m:\u001b[0m\u001b[0;34m\u001b[0m\u001b[0;34m\u001b[0m\u001b[0m\n",
      "\u001b[0;31mFileNotFoundError\u001b[0m: [Errno 2] No such file or directory: 'C:/Users/simon/Documents/DnD'"
     ]
    }
   ],
   "source": [
    "from modules import utils as utils\n",
    "\n",
    "utils.get_file_names(\"C:/Users/simon/Documents/DnD\")\n"
   ]
  },
  {
   "cell_type": "code",
   "execution_count": 24,
   "metadata": {},
   "outputs": [],
   "source": [
    "from modules import utils as utils\n",
    "utils.get_all_file_names(\"C:/Users/simon/Documents/DnD\")"
   ]
  },
  {
   "cell_type": "code",
   "execution_count": 27,
   "metadata": {},
   "outputs": [
    {
     "name": "stdout",
     "output_type": "stream",
     "text": [
      "John 40 male\n",
      "John 40 male\n",
      "\"blow\",\"his\",\"every\",\"connected\",\"rear\",\"such\",\n"
     ]
    }
   ],
   "source": [
    "from modules import utils as utils\n",
    "files = [\"./data/02ExericesFile.txt\",\"./data/02ExericesFile2.txt\",\"./data/02ExericesFile3.txt\"]\n",
    "utils.print_line_one(files)"
   ]
  },
  {
   "cell_type": "code",
   "execution_count": 25,
   "metadata": {},
   "outputs": [
    {
     "name": "stdout",
     "output_type": "stream",
     "text": [
      "tromey@yahoo.ca\n",
      "hahsler@verizon.net\n",
      "dmath@verizon.net\n",
      "emmanuel@sbcglobal.net\n",
      "shang@mac.com\n",
      "trygstad@icloud.com\n",
      "trygstad@aol.com\n",
      "bulletin@aol.com\n",
      "pereinar@sbcglobal.net\n",
      "jhardin@optonline.net\n",
      "parents@gmail.com\n",
      "rsmartin@live.com\n",
      "meder@gmail.com\n"
     ]
    }
   ],
   "source": [
    "from modules import utils as utils\n",
    "moreFiles = [\"./data/bosses.txt\", \"./data/customers.txt\", \"./data/employees.txt\"]\n",
    "utils.print_emails(moreFiles)"
   ]
  },
  {
   "cell_type": "code",
   "execution_count": 26,
   "metadata": {},
   "outputs": [],
   "source": [
    "from modules import utils as utils\n",
    "evenMoreFiles = [\"./data/md1.txt\",\"./data/md2.txt\",\"./data/md3.txt\"]\n",
    "utils.write_headlines(evenMoreFiles)"
   ]
  }
 ],
 "metadata": {
  "kernelspec": {
   "display_name": "Python 3",
   "language": "python",
   "name": "python3"
  },
  "language_info": {
   "codemirror_mode": {
    "name": "ipython",
    "version": 3
   },
   "file_extension": ".py",
   "mimetype": "text/x-python",
   "name": "python",
   "nbconvert_exporter": "python",
   "pygments_lexer": "ipython3",
   "version": "3.7.6"
  }
 },
 "nbformat": 4,
 "nbformat_minor": 4
}
