{
 "cells": [
  {
   "cell_type": "markdown",
   "metadata": {},
   "source": [
    "# Week 6 handin"
   ]
  },
  {
   "cell_type": "markdown",
   "metadata": {},
   "source": [
    "# Handin Exercise 6\n",
    "\n",
    "Create a module containing a class with the following methods:\n",
    "1. __init__(self, url_list)\n",
    "2. download(url,filename) raises NotFoundException when url returns 404\n",
    "3. multi_download() uses threads to download multiple urls as text and stores filenames as a property\n",
    "4. __iter__() returns an iterator\n",
    "5. __next__() returns the next filename (and stops when there are no more)\n",
    "6. urllist_generator() returns a generator to loop through the urls\n",
    "7. avg_vowels(text) - a rough estimate on readability returns average number of vowels in the words of the text\n",
    "8. hardest_read() returns the filename of the text with the highest vowel score (use all the cpu cores on the computer for this work.\n",
    "\n",
    "### Ex 2\n",
    "Create a notebook and import your module from above\n",
    "1. Find 10 books on https://www.gutenberg.org/browse/scores/top and download them using an object of the class you just created before\n",
    "2. Test the different methods of your class\n",
    "3. Make a bar plot with a sorted list of books on x-axis and avg vowels on y-axis\n",
    "\n"
   ]
  },
  {
   "cell_type": "markdown",
   "metadata": {},
   "source": [
    "## 02 Status\n",
    "\n",
    "Done\n"
   ]
  },
  {
   "cell_type": "code",
   "execution_count": 3,
   "metadata": {},
   "outputs": [],
   "source": [
    "from modules.Week_6_module import TextComparer as tc\n",
    "import matplotlib.pyplot as plt\n",
    "urllist = [\"https://www.gutenberg.org/files/84/84-0.txt\", \"https://www.gutenberg.org/files/1342/1342-0.txt\", \"https://www.gutenberg.org/files/64317/64317-0.txt\", \"https://www.gutenberg.org/files/1080/1080-0.txt\", \"https://www.gutenberg.org/files/2542/2542-0.txt\", \"https://www.gutenberg.org/files/11/11-0.txt\", \"https://www.gutenberg.org/files/98/98-0.txt\", \"https://www.gutenberg.org/files/844/844-0.txt\", \"https://www.gutenberg.org/cache/epub/5200/pg5200.txt\", \"https://www.gutenberg.org/files/2701/2701-0.txt\"]\n",
    "urls = tc(urllist)"
   ]
  },
  {
   "cell_type": "code",
   "execution_count": 4,
   "metadata": {},
   "outputs": [
    {
     "name": "stdout",
     "output_type": "stream",
     "text": [
      "Downloading book: 1\n",
      "Downloading book: 2\n",
      "Downloading book: 3\n",
      "Downloading book: 4\n",
      "Downloading book: 5\n",
      "Downloading book: 6\n",
      "Downloading book: 7\n",
      "Downloading book: 8\n",
      "Downloading book: 9\n",
      "Downloading book: 10\n"
     ]
    }
   ],
   "source": [
    "# Multi_download test\n",
    "tc.multi_download(urls)"
   ]
  },
  {
   "cell_type": "code",
   "execution_count": 5,
   "metadata": {},
   "outputs": [
    {
     "data": {
      "text/plain": [
       "['book1.txt',\n",
       " 'book2.txt',\n",
       " 'book3.txt',\n",
       " 'book4.txt',\n",
       " 'book5.txt',\n",
       " 'book6.txt',\n",
       " 'book7.txt',\n",
       " 'book8.txt',\n",
       " 'book9.txt',\n",
       " 'book10.txt']"
      ]
     },
     "execution_count": 5,
     "metadata": {},
     "output_type": "execute_result"
    }
   ],
   "source": [
    "# Iterator test\n",
    "[filename for filename in urls]"
   ]
  },
  {
   "cell_type": "code",
   "execution_count": 6,
   "metadata": {},
   "outputs": [
    {
     "data": {
      "text/plain": [
       "<generator object TextComparer.urllist_generator at 0x7f01600847d0>"
      ]
     },
     "execution_count": 6,
     "metadata": {},
     "output_type": "execute_result"
    }
   ],
   "source": [
    "# Urllist_generator test\n",
    "tc.urllist_generator(tc)"
   ]
  },
  {
   "cell_type": "code",
   "execution_count": 7,
   "metadata": {},
   "outputs": [
    {
     "data": {
      "text/plain": [
       "(1.7, 'book5.txt')"
      ]
     },
     "execution_count": 7,
     "metadata": {},
     "output_type": "execute_result"
    }
   ],
   "source": [
    "# Avg_vowels test\n",
    "tc.avg_vowels(tc, \"book5.txt\")"
   ]
  },
  {
   "cell_type": "code",
   "execution_count": 8,
   "metadata": {},
   "outputs": [
    {
     "data": {
      "text/plain": [
       "(1.91, 'book4.txt')"
      ]
     },
     "execution_count": 8,
     "metadata": {},
     "output_type": "execute_result"
    }
   ],
   "source": [
    "# Hardest_read test\n",
    "tc.hardest_read(urls)"
   ]
  },
  {
   "cell_type": "code",
   "execution_count": 9,
   "metadata": {},
   "outputs": [
    {
     "data": {
      "text/plain": [
       "([0, 1, 2, 3, 4, 5, 6, 7, 8, 9], <a list of 10 Text major ticklabel objects>)"
      ]
     },
     "execution_count": 9,
     "metadata": {},
     "output_type": "execute_result"
    },
    {
     "data": {
      "image/png": "[encoded data removed]",
      "text/plain": [
       "<Figure size 432x288 with 1 Axes>"
      ]
     },
     "metadata": {
      "needs_background": "light"
     },
     "output_type": "display_data"
    }
   ],
   "source": [
    "# plot of books\n",
    "avg_vowel_list = []\n",
    "avg_number = []\n",
    "books = []\n",
    "avg_vowel_list.append(tc.avg_vowels(tc, \"book1.txt\"))\n",
    "avg_vowel_list.append(tc.avg_vowels(tc, \"book2.txt\"))\n",
    "avg_vowel_list.append(tc.avg_vowels(tc, \"book3.txt\"))\n",
    "avg_vowel_list.append(tc.avg_vowels(tc, \"book4.txt\"))\n",
    "avg_vowel_list.append(tc.avg_vowels(tc, \"book5.txt\"))\n",
    "avg_vowel_list.append(tc.avg_vowels(tc, \"book6.txt\"))\n",
    "avg_vowel_list.append(tc.avg_vowels(tc, \"book7.txt\"))\n",
    "avg_vowel_list.append(tc.avg_vowels(tc, \"book8.txt\"))\n",
    "avg_vowel_list.append(tc.avg_vowels(tc, \"book9.txt\"))\n",
    "avg_vowel_list.append(tc.avg_vowels(tc, \"book10.txt\"))\n",
    "\n",
    "avg_vowel_list.sort()\n",
    "for i in avg_vowel_list:\n",
    "    avg_number.append(i[0])\n",
    "    books.append(i[1])\n",
    "\n",
    "plt.bar(books, avg_number, align = 'center')\n",
    "plt.xticks(rotation = 45, horizontalalignment = 'right', fontweight = 'light')"
   ]
  }
 ],
 "metadata": {
  "kernelspec": {
   "display_name": "Python 3",
   "language": "python",
   "name": "python3"
  },
  "language_info": {
   "codemirror_mode": {
    "name": "ipython",
    "version": 3
   },
   "file_extension": ".py",
   "mimetype": "text/x-python",
   "name": "python",
   "nbconvert_exporter": "python",
   "pygments_lexer": "ipython3",
   "version": "3.7.6"
  }
 },
 "nbformat": 4,
 "nbformat_minor": 4
}
