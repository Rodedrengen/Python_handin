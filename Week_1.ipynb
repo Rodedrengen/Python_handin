{
 "cells": [
  {
   "cell_type": "markdown",
   "metadata": {},
   "source": [
    "# Week 1 handin"
   ]
  },
  {
   "cell_type": "markdown",
   "metadata": {},
   "source": [
    "## 01 Assignment\n",
    "\n",
    "\n",
    "    1. Create 5 list comprehensions to solve the following 5 problems:\n",
    "        a. Iterate a list of names to return a list of the names starting with H\n",
    "        b. In one line create a list of the numbers 1-100 to the power of 3\n",
    "        c. Iterate a list of names to create a list of tuples where the tuples first value is the length of the name                             and the second is the name\n",
    "        d. Iterate over each character in a string and get only those that are nummeric\n",
    "        e. Using only a list comprehension wrapped in set() get all possible combination from throwing 2 dice (hint use 2 for loops in a single list comprehension)\n",
    "\n",
    "    2. Create 2 dictionary comprehensions to solve the following:\n",
    "        a. Iterate a list of names and create a dictionary where key is the name and value is the length of the name\n",
    "        b. Iterate a list of numbers and create a dictionary with {key:value} being {number:squareroot_of_number}\n",
    "\n",
    "    3. Extra assignment (This one goes beyond what is covered in the course notebooks. So only do it if you want an extra challenge).\n",
    "        Progammatically using loops create a small program to produce a dictionary with all the 2 dice throw combinations as keys and their likelyhood in percent as values\n",
    "\n"
   ]
  },
  {
   "cell_type": "markdown",
   "metadata": {},
   "source": [
    "## 02 Status\n",
    "I've completed both 1 and 2"
   ]
  },
  {
   "cell_type": "markdown",
   "metadata": {},
   "source": [
    "## 03 Solution part 1"
   ]
  },
  {
   "cell_type": "code",
   "execution_count": 7,
   "metadata": {},
   "outputs": [
    {
     "name": "stdout",
     "output_type": "stream",
     "text": [
      "['Henry Villanueva', 'Hannah Cairns']\n"
     ]
    }
   ],
   "source": [
    "# 1.1 some code here with docstrings\n",
    "names = [\"Lyla-Rose Fisher\",\n",
    "         \"Jaheim Williams\",\n",
    "         \"Kamal Callahan\",\n",
    "         \"Henry Villanueva\",\n",
    "         \"Amara Daly\",\n",
    "         \"Malcolm Wade\",\n",
    "         \"Dean Thatcher\",\n",
    "         \"Hannah Cairns\",\n",
    "         \"Terence Colley\",\n",
    "         \"Oskar Espinosa\"]\n",
    "new_list = [value for value in names if value.startswith(\"H\")]\n",
    "print(new_list)"
   ]
  },
  {
   "cell_type": "code",
   "execution_count": 8,
   "metadata": {},
   "outputs": [
    {
     "name": "stdout",
     "output_type": "stream",
     "text": [
      "[1, 8, 27, 64, 125, 216, 343, 512, 729, 1000, 1331, 1728, 2197, 2744, 3375, 4096, 4913, 5832, 6859, 8000, 9261, 10648, 12167, 13824, 15625, 17576, 19683, 21952, 24389, 27000, 29791, 32768, 35937, 39304, 42875, 46656, 50653, 54872, 59319, 64000, 68921, 74088, 79507, 85184, 91125, 97336, 103823, 110592, 117649, 125000, 132651, 140608, 148877, 157464, 166375, 175616, 185193, 195112, 205379, 216000, 226981, 238328, 250047, 262144, 274625, 287496, 300763, 314432, 328509, 343000, 357911, 373248, 389017, 405224, 421875, 438976, 456533, 474552, 493039, 512000, 531441, 551368, 571787, 592704, 614125, 636056, 658503, 681472, 704969, 729000, 753571, 778688, 804357, 830584, 857375, 884736, 912673, 941192, 970299, 1000000]\n"
     ]
    }
   ],
   "source": [
    "# 1.2 some code here with docstrings\n",
    "newer_liste = [pow(value,3) for value in range(1,101)]\n",
    "\n",
    "print(newer_liste)"
   ]
  },
  {
   "cell_type": "code",
   "execution_count": 10,
   "metadata": {},
   "outputs": [
    {
     "name": "stdout",
     "output_type": "stream",
     "text": [
      "[(16, 'Lyla-Rose Fisher'), (15, 'Jaheim Williams'), (14, 'Kamal Callahan'), (16, 'Henry Villanueva'), (10, 'Amara Daly'), (12, 'Malcolm Wade'), (13, 'Dean Thatcher'), (13, 'Hannah Cairns'), (14, 'Terence Colley'), (14, 'Oskar Espinosa')]\n"
     ]
    }
   ],
   "source": [
    "# 1.3\n",
    "tuplesList = []\n",
    "for name in names: \n",
    "    tuplesList.append((len(name),name))\n",
    "print(tuplesList)"
   ]
  },
  {
   "cell_type": "code",
   "execution_count": 11,
   "metadata": {},
   "outputs": [
    {
     "name": "stdout",
     "output_type": "stream",
     "text": [
      "['1', '2', '3', '4', '5']\n"
     ]
    }
   ],
   "source": [
    "# 1.4\n",
    "\n",
    "password = \"1a2b3c4d5e\"\n",
    "nummeric_list = [char for char in password if char.isdigit()]\n",
    "\n",
    "print(nummeric_list)"
   ]
  },
  {
   "cell_type": "code",
   "execution_count": 14,
   "metadata": {},
   "outputs": [
    {
     "name": "stdout",
     "output_type": "stream",
     "text": [
      "{'6,3', '3,1', '1,1', '2,4', '4,5', '1,4', '2,3', '6,6', '6,5', '6,4', '5,2', '3,5', '3,6', '4,3', '5,5', '5,6', '5,1', '1,6', '6,2', '4,4', '2,2', '4,6', '1,3', '2,1', '5,3', '3,4', '2,6', '4,1', '6,1', '2,5', '4,2', '3,2', '5,4', '1,2', '1,5', '3,3'}\n"
     ]
    }
   ],
   "source": [
    "# 1.5\n",
    "#new_set = set([first + secound for first in range(1,7) for secound in range(1,7)])\n",
    "new_set = set([str(first)+','+str(secound) for first in range(1,7) for secound in range(1,7)])\n",
    "print(new_set)"
   ]
  },
  {
   "cell_type": "markdown",
   "metadata": {},
   "source": [
    "## 04 Solution part 2"
   ]
  },
  {
   "cell_type": "code",
   "execution_count": 15,
   "metadata": {},
   "outputs": [
    {
     "name": "stdout",
     "output_type": "stream",
     "text": [
      "{'Lyla-Rose Fisher': 16, 'Jaheim Williams': 15, 'Kamal Callahan': 14, 'Henry Villanueva': 16, 'Amara Daly': 10, 'Malcolm Wade': 12, 'Dean Thatcher': 13, 'Hannah Cairns': 13, 'Terence Colley': 14, 'Oskar Espinosa': 14}\n"
     ]
    }
   ],
   "source": [
    "# 2.1\n",
    "dict_variable = {name:len(name) for name in names}\n",
    "print(dict_variable)"
   ]
  },
  {
   "cell_type": "code",
   "execution_count": 16,
   "metadata": {},
   "outputs": [
    {
     "name": "stdout",
     "output_type": "stream",
     "text": [
      "{0: 0, 1: 1, 2: 4, 3: 9, 4: 16, 5: 25, 6: 36, 7: 49, 8: 64, 9: 81, 10: 100, 11: 121, 12: 144, 13: 169, 14: 196, 15: 225, 16: 256, 17: 289, 18: 324, 19: 361, 20: 400}\n"
     ]
    }
   ],
   "source": [
    "dict_var = {number: pow(number,2) for number in range(0,21)}\n",
    "print(dict_var)"
   ]
  },
  {
   "cell_type": "code",
   "execution_count": null,
   "metadata": {},
   "outputs": [],
   "source": []
  }
 ],
 "metadata": {
  "kernelspec": {
   "display_name": "Python 3",
   "language": "python",
   "name": "python3"
  },
  "language_info": {
   "codemirror_mode": {
    "name": "ipython",
    "version": 3
   },
   "file_extension": ".py",
   "mimetype": "text/x-python",
   "name": "python",
   "nbconvert_exporter": "python",
   "pygments_lexer": "ipython3",
   "version": "3.7.6"
  }
 },
 "nbformat": 4,
 "nbformat_minor": 4
}
