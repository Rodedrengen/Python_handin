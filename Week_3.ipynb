{
 "cells": [
  {
   "cell_type": "markdown",
   "metadata": {},
   "source": [
    "# Week 3 handin"
   ]
  },
  {
   "cell_type": "markdown",
   "metadata": {},
   "source": [
    "# Exercise for the 3rd course week\n",
    "\n",
    "## Ex 1 Classes\n",
    "1. Create 3 classes: Student, DataSheet and Course\n",
    "2. A student has a data_sheet and a data_sheet has multiple courses in particular order\n",
    "3. Each course has name, classroom, teacher, ETCS and optional grade if course is taken.\n",
    "4. In Student create __init__() so that a Student can be initiated with name, gender, data_sheet and image_url\n",
    "5. In DataSheet create a method to get_grades_as_list()\n",
    "6. In student create a method: get_avg_grade()\n",
    "7. Create a function that can generate n number of students with random: name, gender, courses (from a fixed list of course names), grades, img_url\n",
    "   1. Let the function write the result to a csv file with format stud_name, course_name, teacher, ects, classroom, grade, img_url\n",
    "7. Read student data into a list of Students from a csv file: \n",
    "   1. loop through the list and print each student with name, img_url and avg_grade.\n",
    "   2. sort the list by avg_grade\n",
    "   3. create a bar chart with student_name on x and av\n",
    "   g_grade on y-axis\n",
    "8. Make a method on Student class that can show progression of the study in % (add up ECTS from all passed courses divided by total of 150 total points (equivalent to 5 semesters))\n",
    "9. Show a bar chart of distribution of study progression on x-axis and number of students in each category on y-axis. (e.g. make 10 categories from 0-100%)\n",
    "\n",
    "Extra: Make the Datasheet class iterable so that next(data_sheet) will return the next course in the list\n",
    "\n",
    "## Ex 2 Exceptions (extra)\n",
    "1. Create a function that can take a list of students and return the 3 students closest to completing their study.\n",
    "2. If list is shorter than 3 raise your own custom exception (NotEnoughStudentsException)\n",
    "3. Create another function that can create a csv file with 3 students closest to completion\n",
    "   1. If an exception is raised write an appropriate message to the file\n",
    "\n",
    "## Ex 3 Plotting (extra)\n",
    "1. Create a function that can take a list of students and show a pie chart of how students are distributed in ECTS percentage categories (10%, 20%, ...)\n",
    "2. create a function that can take a list of students and show how many students have taken each course (bar chart)\n",
    "   1. create a method on student that can return a list of courses\n",
    "3. make the figure show males and females in different colors for each course (display 2 datasets in same figure)\n",
    "\n",
    "\n"
   ]
  },
  {
   "cell_type": "markdown",
   "metadata": {},
   "source": [
    "## 02 Status\n",
    "I got to 1.7a. I had big problems with classes and importering them correctly I plan on doing the rest of this exerecies within a week."
   ]
  },
  {
   "cell_type": "markdown",
   "metadata": {},
   "source": [
    "## 03 Solution part 1"
   ]
  },
  {
   "cell_type": "code",
   "execution_count": 2,
   "metadata": {},
   "outputs": [],
   "source": [
    "# 1.1 some code here with docstrings\n",
    "\n",
    "import random\n",
    "from random import randint\n",
    "\n",
    "from modules.Student import Student\n",
    "from modules.Course import Course\n",
    "from modules.DataSheet import DataSheet\n",
    "\n",
    "ectspoints = [5, 10, 15, 20, 30]\n",
    "outFileName = \"studentsAndTheirCourses.txt\"\n",
    "classRoomNames = [\n",
    "    \"Frankenstein Fiction\",\n",
    "    \"James Bond Fiction\",\n",
    "    \"Ron Fiction\",\n",
    "    \"Sirius Black Fiction\",\n",
    "    \"Superman Fiction\",\n",
    "    \"Batman Fiction\",\n",
    "    \"Jedi Fiction\",\n",
    "    \"Darth Vader Fiction\",\n",
    "    \"Sphinx Fiction\",\n",
    "    \"Aslan Fiction\",\n",
    "]\n",
    "\n",
    "names = [\n",
    "    \"Rayan Hodgson\",\n",
    "    \"Sue Combs\",\n",
    "    \"Viola Lang\",\n",
    "    \"Jakub Dalton\",\n",
    "    \"Jonathan Nava\",\n",
    "    \"Juno Wolfe\",\n",
    "    \"Clement Hagan\",\n",
    "    \"Zunaira Wright\",\n",
    "    \"Ayoub Searle\",\n",
    "    \"Joan Lindsay\",\n",
    "]\n",
    "\n",
    "coursNames = [\n",
    "    \"Public Administration\",\n",
    "    \"Conducting\",\n",
    "    \"Forensic Developmental Psychology\",\n",
    "    \"Federal Law\",\n",
    "    \"Oral Literature Studies\",\n",
    "    \"Philosophy of Music\",\n",
    "    \"Obstetrics\",\n",
    "    \"Police Science\",\n",
    "    \"Environmental Anthropology\",\n",
    "    \"Nutritional Anthropology\",\n",
    "]\n",
    "\n",
    "image_url = \"https://thispersondoesnotexist.com/\"\n",
    "\n",
    "genders = [\"male\", \"female\"]\n",
    "\n",
    "grades = [-3, 00, 2, 2, 4, 7, 10, 12]\n",
    "\n",
    "\n",
    "def create_n_students(n):\n",
    "    \n",
    "    students = []\n",
    "    \n",
    "    for i in range(n):\n",
    "        datasheet = DataSheet(get_courses())\n",
    "        student = Student(\n",
    "            random.choice(names), random.choice(genders), datasheet, image_url\n",
    "        )\n",
    "        students.append(student)\n",
    "    return students\n",
    "\n",
    "def get_courses():\n",
    "    courses = []\n",
    "    for q in range(randint(1, len(coursNames))):\n",
    "        course = Course(\n",
    "            random.choice(coursNames),\n",
    "            random.choice(classRoomNames),\n",
    "            random.choice(names),\n",
    "            random.choice(ectspoints),\n",
    "            random.choice(grades),\n",
    "        )\n",
    "        courses.append(course)\n",
    "    return courses\n",
    "\n",
    "students = create_n_students(5)\n",
    "\n",
    "with open(outFileName, 'a') as file_object:\n",
    "        for student in students:\n",
    "            file_object.write(str(student) + \"\\n\")\n"
   ]
  },
  {
   "cell_type": "code",
   "execution_count": null,
   "metadata": {},
   "outputs": [],
   "source": []
  },
  {
   "cell_type": "markdown",
   "metadata": {},
   "source": [
    "## 04 Solution part 2"
   ]
  },
  {
   "cell_type": "code",
   "execution_count": null,
   "metadata": {},
   "outputs": [],
   "source": [
    "# 2.1"
   ]
  },
  {
   "cell_type": "code",
   "execution_count": null,
   "metadata": {},
   "outputs": [],
   "source": []
  },
  {
   "cell_type": "code",
   "execution_count": null,
   "metadata": {},
   "outputs": [],
   "source": []
  }
 ],
 "metadata": {
  "kernelspec": {
   "display_name": "Python 3",
   "language": "python",
   "name": "python3"
  },
  "language_info": {
   "codemirror_mode": {
    "name": "ipython",
    "version": 3
   },
   "file_extension": ".py",
   "mimetype": "text/x-python",
   "name": "python",
   "nbconvert_exporter": "python",
   "pygments_lexer": "ipython3",
   "version": "3.7.6"
  }
 },
 "nbformat": 4,
 "nbformat_minor": 4
}
