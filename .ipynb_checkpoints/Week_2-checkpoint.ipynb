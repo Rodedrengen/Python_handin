{
 "cells": [
  {
   "cell_type": "markdown",
   "metadata": {},
   "source": [
    "# Week 2 handin"
   ]
  },
  {
   "cell_type": "markdown",
   "metadata": {},
   "source": [
    "## Assignment\n",
    "## Exercise 1\n",
    "1. Create a python file with 3 functions:\n",
    "  1. `def print_file_content(file)` that can print content of a csv file to the console\n",
    "  2. `def write_list_to_file(output_file, lst)` that can take a list of tuple and write each element to a new line in file\n",
    "    1. rewrite the function so that it gets an arbitrary number of strings instead of a list\n",
    "  3. `def read_csv(input_file)` that take a csv file and read each row into a list\n",
    "2. Add a functionality so that the file can be called from cli with 2 arguments\n",
    "  1. path to csv file\n",
    "  2. an argument `--file file_name` that if given will write the content to file_name or otherwise will print it to the console.\n",
    "3. Add a --help cli argument to describe how the module is used  \n",
    "\n",
    "## Exercise 2\n",
    "Create a module called utils.py with the following 5 functions:\n",
    "\n",
    "```python\n",
    "def get_file_names(folderpath,out=output.txt):\n",
    "    \"\"\" takes a path to a folder and writes all filenames in the folder to a specified output file\"\"\"\n",
    "\n",
    "def get_all_file_names(folderpath,out=output.txt):\n",
    "    \"\"\"takes a path to a folder and write all filenames recursively (files of all sub folders to)\"\"\"\n",
    "\n",
    "def print_line_one(file_names):\n",
    "    \"\"\"takes a list of filenames and print the first line of each\"\"\"\n",
    "\n",
    "def print_emails(file_names):\n",
    "    \"\"\"takes a list of filenames and print each line that contains an email (just look for @)\"\"\"\n",
    "\n",
    "def write_headlines(md_files, out=output.txt):\n",
    "    \"\"\"takes a list of md files and writes all headlines (lines starting with #) to a file\"\"\"\n",
    "\n",
    "```\n",
    "Make sure your module can be called both from cli and imported to another module\n",
    "Create a new module that imports utils.py and test each function."
   ]
  },
  {
   "cell_type": "markdown",
   "metadata": {},
   "source": [
    "## Status\n",
    "I could not get the last part of exercise 2 to work. With the cli arguments. The rest should be working good. I did not know how to show CLI in notebooks"
   ]
  },
  {
   "cell_type": "markdown",
   "metadata": {},
   "source": [
    "## Solution part 1"
   ]
  },
  {
   "cell_type": "code",
   "execution_count": 2,
   "metadata": {},
   "outputs": [
    {
     "name": "stdout",
     "output_type": "stream",
     "text": [
      "['\"blow\"', '\"his\"', '\"every\"', '\"connected\"', '\"rear\"', '\"such\"', '']\n",
      "['\"dinner\"', '\"business\"', '\"refused\"', '\"at\"', '\"little\"', '\"late\"', '']\n",
      "['\"exchange\"', '\"loose\"', '\"spite\"', '\"base\"', '\"real\"', '\"judge\"', '']\n",
      "['\"percent\"', '\"principle\"', '\"stairs\"', '\"seat\"', '\"operation\"', '\"till\"', '']\n",
      "['\"broke\"', '\"fighting\"', '\"direct\"', '\"pride\"', '\"order\"', '\"due\"', '']\n",
      "['\"mighty\"', '\"mountain\"', '\"nobody\"', '\"tent\"', '\"coming\"', '\"lose\"', '']\n",
      "['\"room\"', '\"gift\"', '\"garage\"', '\"distant\"', '\"sick\"', '\"tightly\"']\n"
     ]
    }
   ],
   "source": [
    "# 1.1.A some code here with docstrings\n",
    "\n",
    "def print_file_content(file):\n",
    "\n",
    "    with open(file) as f_obj:\n",
    "        content = f_obj.readlines()\n",
    "\n",
    "    for line in content:\n",
    "        print(line.strip().split(','))\n",
    "\n",
    "\n",
    "fileName = './data/csvFile.csv'\n",
    "print_file_content(fileName)"
   ]
  },
  {
   "cell_type": "code",
   "execution_count": 9,
   "metadata": {},
   "outputs": [],
   "source": [
    "# 1.1.B some code here with docstrings\n",
    "\n",
    "def write_list_to_file(output_file, lst):\n",
    "\n",
    "    with open(output_file, 'w') as file_object:\n",
    "        for line in lst:\n",
    "            for data in line:\n",
    "                file_object.write((str(data) + \" \"))\n",
    "\n",
    "            file_object.write(\"\\n\")\n",
    "\n",
    "\n",
    "tupleData = [(\"John\", 40, \"male\"),\n",
    "            (\"Mikkel\", 55, \"Male\"),\n",
    "            (\"Cecillie\", 17, \"Female\")]\n",
    "outFileName = './data/02ExericesFile.txt'\n",
    "write_list_to_file(outFileName, tupleData)"
   ]
  },
  {
   "cell_type": "code",
   "execution_count": 10,
   "metadata": {},
   "outputs": [],
   "source": [
    "# 1.1.B.A\n",
    "\n",
    "def write_abitraty_amount_of_strings_to_file(output_file, *persons):\n",
    "\n",
    "    with open(output_file, 'a') as file_object:\n",
    "        for person in persons:\n",
    "            file_object.write((person))\n",
    "            file_object.write(\"\\n\")\n",
    "\n",
    "\n",
    "string1 = \"John 40 male\"\n",
    "string2 = \"Mikkel 55 Male\"\n",
    "string3 = \"Cecillie 17 Female\"\n",
    "\n",
    "outFileName = './data/02ExericesFile2.txt'\n",
    "write_abitraty_amount_of_strings_to_file(\n",
    "    outFileName, string1, string2, string3)"
   ]
  },
  {
   "cell_type": "code",
   "execution_count": 12,
   "metadata": {},
   "outputs": [
    {
     "name": "stdout",
     "output_type": "stream",
     "text": [
      "[['\"blow\"', '\"his\"', '\"every\"', '\"connected\"', '\"rear\"', '\"such\"', '\\n'], ['\"dinner\"', '\"business\"', '\"refused\"', '\"at\"', '\"little\"', '\"late\"', '\\n'], ['\"exchange\"', '\"loose\"', '\"spite\"', '\"base\"', '\"real\"', '\"judge\"', '\\n'], ['\"percent\"', '\"principle\"', '\"stairs\"', '\"seat\"', '\"operation\"', '\"till\"', '\\n'], ['\"broke\"', '\"fighting\"', '\"direct\"', '\"pride\"', '\"order\"', '\"due\"', '\\n'], ['\"mighty\"', '\"mountain\"', '\"nobody\"', '\"tent\"', '\"coming\"', '\"lose\"', '\\n'], ['\"room\"', '\"gift\"', '\"garage\"', '\"distant\"', '\"sick\"', '\"tightly\"']]\n"
     ]
    }
   ],
   "source": [
    "# 1.1.C\n",
    "\n",
    "def read_csv(input_file):\n",
    "    listOfList = []\n",
    "\n",
    "    with open(input_file) as f_obj:\n",
    "            \n",
    "        content = f_obj.readlines()\n",
    "\n",
    "    for value in content: \n",
    "        \n",
    "        listOfList.append(value.split(\",\"))\n",
    "\n",
    "    print(listOfList)\n",
    "fileName = './data/csvFile.csv'\n",
    "read_csv(fileName)"
   ]
  },
  {
   "cell_type": "code",
   "execution_count": 13,
   "metadata": {},
   "outputs": [
    {
     "name": "stderr",
     "output_type": "stream",
     "text": [
      "usage: ipykernel_launcher.py [-h] [-i INPUT] [-o OUTPUT]\n",
      "ipykernel_launcher.py: error: unrecognized arguments: -f /tmp/kernel-c68685ae-2978-4942-b684-15ec7349c5f3.json\n"
     ]
    },
    {
     "ename": "SystemExit",
     "evalue": "2",
     "output_type": "error",
     "traceback": [
      "An exception has occurred, use %tb to see the full traceback.\n",
      "\u001b[0;31mSystemExit\u001b[0m\u001b[0;31m:\u001b[0m 2\n"
     ]
    },
    {
     "name": "stderr",
     "output_type": "stream",
     "text": [
      "/opt/conda/lib/python3.7/site-packages/IPython/core/interactiveshell.py:3339: UserWarning: To exit: use 'exit', 'quit', or Ctrl-D.\n",
      "  warn(\"To exit: use 'exit', 'quit', or Ctrl-D.\", stacklevel=1)\n"
     ]
    }
   ],
   "source": [
    "# 1.2.A & 1.2.B & 3\n",
    "import argparse\n",
    "parser= argparse.ArgumentParser(description='Exercies for week 2 in python')\n",
    "parser.add_argument('-i','--input', help='path to input csv file')\n",
    "parser.add_argument('-o','--output', help='name of output file')\n",
    "args = parser.parse_args();\n",
    "print(args.input)\n",
    "print(args.output)\n",
    "\n",
    "def readFile(inFileName, outFileName):\n",
    "\n",
    "    if(inFileName == None):\n",
    "        return\n",
    "    with open(inFileName,'r') as file_object:\n",
    "        lines = file_object.readlines()\n",
    "    \n",
    "    if(outFileName != None):\n",
    "        with open(outFileName, 'a') as file_object:\n",
    "            for line in lines:\n",
    "                file_object.write(line)\n",
    "            file_object.write(\"\\n\")\n",
    "    else:\n",
    "        print(lines)\n",
    "\n",
    "readFile(args.input, args.output)"
   ]
  },
  {
   "cell_type": "markdown",
   "metadata": {},
   "source": [
    "## Solution part 2"
   ]
  },
  {
   "cell_type": "code",
   "execution_count": null,
   "metadata": {},
   "outputs": [],
   "source": []
  },
  {
   "cell_type": "code",
   "execution_count": null,
   "metadata": {},
   "outputs": [],
   "source": []
  },
  {
   "cell_type": "code",
   "execution_count": null,
   "metadata": {},
   "outputs": [],
   "source": []
  }
 ],
 "metadata": {
  "kernelspec": {
   "display_name": "Python 3",
   "language": "python",
   "name": "python3"
  },
  "language_info": {
   "codemirror_mode": {
    "name": "ipython",
    "version": 3
   },
   "file_extension": ".py",
   "mimetype": "text/x-python",
   "name": "python",
   "nbconvert_exporter": "python",
   "pygments_lexer": "ipython3",
   "version": "3.7.6"
  }
 },
 "nbformat": 4,
 "nbformat_minor": 4
}
